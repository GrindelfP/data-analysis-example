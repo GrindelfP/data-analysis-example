{
 "cells": [
  {
   "cell_type": "markdown",
   "source": [
    "### Импорты"
   ],
   "metadata": {
    "collapsed": false
   },
   "id": "c26cb75a6b165c39"
  },
  {
   "cell_type": "code",
   "execution_count": 1,
   "id": "initial_id",
   "metadata": {
    "collapsed": true,
    "ExecuteTime": {
     "end_time": "2023-10-31T07:18:06.845368Z",
     "start_time": "2023-10-31T07:18:06.340223Z"
    }
   },
   "outputs": [],
   "source": [
    "import pandas as pd\n",
    "from pandas import *\n",
    "import numpy as np\n",
    "import matplotlib.pyplot as plt"
   ]
  },
  {
   "cell_type": "markdown",
   "source": [
    "### Чтение данных из файла в датафрейм "
   ],
   "metadata": {
    "collapsed": false
   },
   "id": "6d8511c99ae21ed9"
  },
  {
   "cell_type": "code",
   "execution_count": 2,
   "outputs": [],
   "source": [
    "data = pd.read_csv(\n",
    "    'data/Energy_and_Water_Data_Disclosure_for_Local_Law_84_2017__Data_for_Calendar_Year_2016_.csv'\n",
    ")"
   ],
   "metadata": {
    "collapsed": false,
    "ExecuteTime": {
     "end_time": "2023-10-31T07:18:06.947902Z",
     "start_time": "2023-10-31T07:18:06.845172Z"
    }
   },
   "id": "14d96ccb23d3e0a4"
  },
  {
   "cell_type": "markdown",
   "source": [
    "### Верхние 5 строк"
   ],
   "metadata": {
    "collapsed": false
   },
   "id": "2665800357ea46af"
  },
  {
   "cell_type": "code",
   "execution_count": 3,
   "outputs": [
    {
     "data": {
      "text/plain": "   Order  Property Id                                 Property Name  \\\n0      1        13286                                       201/205   \n1      2        28400                    NYP Columbia (West Campus)   \n2      3      4778226                                 MSCHoNY North   \n3      4      4778267  Herbert Irving Pavilion & Millstein Hospital   \n4      5      4778288                               Neuro Institute   \n\n  Parent Property Id        Parent Property Name BBL - 10 digits  \\\n0              13286                     201/205      1013160001   \n1              28400  NYP Columbia (West Campus)      1021380040   \n2              28400  NYP Columbia (West Campus)      1021380030   \n3              28400  NYP Columbia (West Campus)      1021390001   \n4              28400  NYP Columbia (West Campus)      1021390085   \n\n  NYC Borough, Block and Lot (BBL) self-reported  \\\n0                                     1013160001   \n1                                   1-02138-0040   \n2                                   1-02138-0030   \n3                                   1-02139-0001   \n4                                   1-02139-0085   \n\n            NYC Building Identification Number (BIN)  \\\n0                                            1037549   \n1  1084198; 1084387;1084385; 1084386; 1084388; 10...   \n2                                            1063380   \n3                                   1087281; 1076746   \n4                                            1063403   \n\n  Address 1 (self-reported)                Address 2  ...  \\\n0  201/205  East  42nd  st.            Not Available  ...   \n1          622 168th Street            Not Available  ...   \n2             3975 Broadway            Not Available  ...   \n3   161 Fort Washington Ave  177 Fort Washington Ave  ...   \n4     710 West 168th Street            Not Available  ...   \n\n  Source EUI (kBtu/ft²)            Release Date Water Required?  \\\n0                 619.4  05/01/2017 05:32:03 PM              No   \n1                 404.3  04/27/2017 11:23:27 AM              No   \n2         Not Available  04/27/2017 11:23:27 AM              No   \n3         Not Available  04/27/2017 11:23:27 AM              No   \n4         Not Available  04/27/2017 11:23:27 AM              No   \n\n  DOF Benchmarking Submission Status   Latitude  Longitude Community Board  \\\n0                      In Compliance  40.750791 -73.973963             6.0   \n1                      In Compliance  40.841402 -73.942568            12.0   \n2                      In Compliance  40.840427 -73.940249            12.0   \n3                      In Compliance  40.840746 -73.942854            12.0   \n4                      In Compliance  40.841559 -73.942528            12.0   \n\n  Council District Census Tract  \\\n0              4.0         88.0   \n1             10.0        251.0   \n2             10.0        251.0   \n3             10.0        255.0   \n4             10.0        255.0   \n\n                                                 NTA  \n0  Turtle Bay-East Midtown                       ...  \n1  Washington Heights South                      ...  \n2  Washington Heights South                      ...  \n3  Washington Heights South                      ...  \n4  Washington Heights South                      ...  \n\n[5 rows x 60 columns]",
      "text/html": "<div>\n<style scoped>\n    .dataframe tbody tr th:only-of-type {\n        vertical-align: middle;\n    }\n\n    .dataframe tbody tr th {\n        vertical-align: top;\n    }\n\n    .dataframe thead th {\n        text-align: right;\n    }\n</style>\n<table border=\"1\" class=\"dataframe\">\n  <thead>\n    <tr style=\"text-align: right;\">\n      <th></th>\n      <th>Order</th>\n      <th>Property Id</th>\n      <th>Property Name</th>\n      <th>Parent Property Id</th>\n      <th>Parent Property Name</th>\n      <th>BBL - 10 digits</th>\n      <th>NYC Borough, Block and Lot (BBL) self-reported</th>\n      <th>NYC Building Identification Number (BIN)</th>\n      <th>Address 1 (self-reported)</th>\n      <th>Address 2</th>\n      <th>...</th>\n      <th>Source EUI (kBtu/ft²)</th>\n      <th>Release Date</th>\n      <th>Water Required?</th>\n      <th>DOF Benchmarking Submission Status</th>\n      <th>Latitude</th>\n      <th>Longitude</th>\n      <th>Community Board</th>\n      <th>Council District</th>\n      <th>Census Tract</th>\n      <th>NTA</th>\n    </tr>\n  </thead>\n  <tbody>\n    <tr>\n      <th>0</th>\n      <td>1</td>\n      <td>13286</td>\n      <td>201/205</td>\n      <td>13286</td>\n      <td>201/205</td>\n      <td>1013160001</td>\n      <td>1013160001</td>\n      <td>1037549</td>\n      <td>201/205  East  42nd  st.</td>\n      <td>Not Available</td>\n      <td>...</td>\n      <td>619.4</td>\n      <td>05/01/2017 05:32:03 PM</td>\n      <td>No</td>\n      <td>In Compliance</td>\n      <td>40.750791</td>\n      <td>-73.973963</td>\n      <td>6.0</td>\n      <td>4.0</td>\n      <td>88.0</td>\n      <td>Turtle Bay-East Midtown                       ...</td>\n    </tr>\n    <tr>\n      <th>1</th>\n      <td>2</td>\n      <td>28400</td>\n      <td>NYP Columbia (West Campus)</td>\n      <td>28400</td>\n      <td>NYP Columbia (West Campus)</td>\n      <td>1021380040</td>\n      <td>1-02138-0040</td>\n      <td>1084198; 1084387;1084385; 1084386; 1084388; 10...</td>\n      <td>622 168th Street</td>\n      <td>Not Available</td>\n      <td>...</td>\n      <td>404.3</td>\n      <td>04/27/2017 11:23:27 AM</td>\n      <td>No</td>\n      <td>In Compliance</td>\n      <td>40.841402</td>\n      <td>-73.942568</td>\n      <td>12.0</td>\n      <td>10.0</td>\n      <td>251.0</td>\n      <td>Washington Heights South                      ...</td>\n    </tr>\n    <tr>\n      <th>2</th>\n      <td>3</td>\n      <td>4778226</td>\n      <td>MSCHoNY North</td>\n      <td>28400</td>\n      <td>NYP Columbia (West Campus)</td>\n      <td>1021380030</td>\n      <td>1-02138-0030</td>\n      <td>1063380</td>\n      <td>3975 Broadway</td>\n      <td>Not Available</td>\n      <td>...</td>\n      <td>Not Available</td>\n      <td>04/27/2017 11:23:27 AM</td>\n      <td>No</td>\n      <td>In Compliance</td>\n      <td>40.840427</td>\n      <td>-73.940249</td>\n      <td>12.0</td>\n      <td>10.0</td>\n      <td>251.0</td>\n      <td>Washington Heights South                      ...</td>\n    </tr>\n    <tr>\n      <th>3</th>\n      <td>4</td>\n      <td>4778267</td>\n      <td>Herbert Irving Pavilion &amp; Millstein Hospital</td>\n      <td>28400</td>\n      <td>NYP Columbia (West Campus)</td>\n      <td>1021390001</td>\n      <td>1-02139-0001</td>\n      <td>1087281; 1076746</td>\n      <td>161 Fort Washington Ave</td>\n      <td>177 Fort Washington Ave</td>\n      <td>...</td>\n      <td>Not Available</td>\n      <td>04/27/2017 11:23:27 AM</td>\n      <td>No</td>\n      <td>In Compliance</td>\n      <td>40.840746</td>\n      <td>-73.942854</td>\n      <td>12.0</td>\n      <td>10.0</td>\n      <td>255.0</td>\n      <td>Washington Heights South                      ...</td>\n    </tr>\n    <tr>\n      <th>4</th>\n      <td>5</td>\n      <td>4778288</td>\n      <td>Neuro Institute</td>\n      <td>28400</td>\n      <td>NYP Columbia (West Campus)</td>\n      <td>1021390085</td>\n      <td>1-02139-0085</td>\n      <td>1063403</td>\n      <td>710 West 168th Street</td>\n      <td>Not Available</td>\n      <td>...</td>\n      <td>Not Available</td>\n      <td>04/27/2017 11:23:27 AM</td>\n      <td>No</td>\n      <td>In Compliance</td>\n      <td>40.841559</td>\n      <td>-73.942528</td>\n      <td>12.0</td>\n      <td>10.0</td>\n      <td>255.0</td>\n      <td>Washington Heights South                      ...</td>\n    </tr>\n  </tbody>\n</table>\n<p>5 rows × 60 columns</p>\n</div>"
     },
     "execution_count": 3,
     "metadata": {},
     "output_type": "execute_result"
    }
   ],
   "source": [
    "data.head()"
   ],
   "metadata": {
    "collapsed": false,
    "ExecuteTime": {
     "end_time": "2023-10-31T07:18:06.960742Z",
     "start_time": "2023-10-31T07:18:06.950126Z"
    }
   },
   "id": "5385d190fa21af56"
  },
  {
   "cell_type": "markdown",
   "source": [
    "### Отображение информации о колонках фрейма"
   ],
   "metadata": {
    "collapsed": false
   },
   "id": "996bb727d99aab17"
  },
  {
   "cell_type": "code",
   "execution_count": 4,
   "outputs": [
    {
     "name": "stdout",
     "output_type": "stream",
     "text": [
      "<class 'pandas.core.frame.DataFrame'>\n",
      "RangeIndex: 11746 entries, 0 to 11745\n",
      "Data columns (total 60 columns):\n",
      " #   Column                                                      Non-Null Count  Dtype  \n",
      "---  ------                                                      --------------  -----  \n",
      " 0   Order                                                       11746 non-null  int64  \n",
      " 1   Property Id                                                 11746 non-null  int64  \n",
      " 2   Property Name                                               11746 non-null  object \n",
      " 3   Parent Property Id                                          11746 non-null  object \n",
      " 4   Parent Property Name                                        11746 non-null  object \n",
      " 5   BBL - 10 digits                                             11735 non-null  object \n",
      " 6   NYC Borough, Block and Lot (BBL) self-reported              11746 non-null  object \n",
      " 7   NYC Building Identification Number (BIN)                    11746 non-null  object \n",
      " 8   Address 1 (self-reported)                                   11746 non-null  object \n",
      " 9   Address 2                                                   11746 non-null  object \n",
      " 10  Postal Code                                                 11746 non-null  object \n",
      " 11  Street Number                                               11622 non-null  object \n",
      " 12  Street Name                                                 11624 non-null  object \n",
      " 13  Borough                                                     11628 non-null  object \n",
      " 14  DOF Gross Floor Area                                        11628 non-null  float64\n",
      " 15  Primary Property Type - Self Selected                       11746 non-null  object \n",
      " 16  List of All Property Use Types at Property                  11746 non-null  object \n",
      " 17  Largest Property Use Type                                   11746 non-null  object \n",
      " 18  Largest Property Use Type - Gross Floor Area (ft²)          11746 non-null  object \n",
      " 19  2nd Largest Property Use Type                               11746 non-null  object \n",
      " 20  2nd Largest Property Use - Gross Floor Area (ft²)           11746 non-null  object \n",
      " 21  3rd Largest Property Use Type                               11746 non-null  object \n",
      " 22  3rd Largest Property Use Type - Gross Floor Area (ft²)      11746 non-null  object \n",
      " 23  Year Built                                                  11746 non-null  int64  \n",
      " 24  Number of Buildings - Self-reported                         11746 non-null  int64  \n",
      " 25  Occupancy                                                   11746 non-null  int64  \n",
      " 26  Metered Areas (Energy)                                      11746 non-null  object \n",
      " 27  Metered Areas  (Water)                                      11746 non-null  object \n",
      " 28  ENERGY STAR Score                                           11746 non-null  object \n",
      " 29  Site EUI (kBtu/ft²)                                         11746 non-null  object \n",
      " 30  Weather Normalized Site EUI (kBtu/ft²)                      11746 non-null  object \n",
      " 31  Weather Normalized Site Electricity Intensity (kWh/ft²)     11746 non-null  object \n",
      " 32  Weather Normalized Site Natural Gas Intensity (therms/ft²)  11746 non-null  object \n",
      " 33  Weather Normalized Source EUI (kBtu/ft²)                    11746 non-null  object \n",
      " 34  Fuel Oil #1 Use (kBtu)                                      11746 non-null  object \n",
      " 35  Fuel Oil #2 Use (kBtu)                                      11746 non-null  object \n",
      " 36  Fuel Oil #4 Use (kBtu)                                      11746 non-null  object \n",
      " 37  Fuel Oil #5 & 6 Use (kBtu)                                  11746 non-null  object \n",
      " 38  Diesel #2 Use (kBtu)                                        11746 non-null  object \n",
      " 39  District Steam Use (kBtu)                                   11746 non-null  object \n",
      " 40  Natural Gas Use (kBtu)                                      11746 non-null  object \n",
      " 41  Weather Normalized Site Natural Gas Use (therms)            11746 non-null  object \n",
      " 42  Electricity Use - Grid Purchase (kBtu)                      11746 non-null  object \n",
      " 43  Weather Normalized Site Electricity (kWh)                   11746 non-null  object \n",
      " 44  Total GHG Emissions (Metric Tons CO2e)                      11746 non-null  object \n",
      " 45  Direct GHG Emissions (Metric Tons CO2e)                     11746 non-null  object \n",
      " 46  Indirect GHG Emissions (Metric Tons CO2e)                   11746 non-null  object \n",
      " 47  Property GFA - Self-Reported (ft²)                          11746 non-null  int64  \n",
      " 48  Water Use (All Water Sources) (kgal)                        11746 non-null  object \n",
      " 49  Water Intensity (All Water Sources) (gal/ft²)               11746 non-null  object \n",
      " 50  Source EUI (kBtu/ft²)                                       11746 non-null  object \n",
      " 51  Release Date                                                11746 non-null  object \n",
      " 52  Water Required?                                             11628 non-null  object \n",
      " 53  DOF Benchmarking Submission Status                          11716 non-null  object \n",
      " 54  Latitude                                                    9483 non-null   float64\n",
      " 55  Longitude                                                   9483 non-null   float64\n",
      " 56  Community Board                                             9483 non-null   float64\n",
      " 57  Council District                                            9483 non-null   float64\n",
      " 58  Census Tract                                                9483 non-null   float64\n",
      " 59  NTA                                                         9483 non-null   object \n",
      "dtypes: float64(6), int64(6), object(48)\n",
      "memory usage: 5.4+ MB\n"
     ]
    }
   ],
   "source": [
    "data.info()"
   ],
   "metadata": {
    "collapsed": false,
    "ExecuteTime": {
     "end_time": "2023-10-31T07:18:06.978253Z",
     "start_time": "2023-10-31T07:18:06.960197Z"
    }
   },
   "id": "dd05d9972b106387"
  },
  {
   "cell_type": "markdown",
   "source": [
    "### Замена всех \"Not available\" данных на NaN "
   ],
   "metadata": {
    "collapsed": false
   },
   "id": "13f5ff4665b566e2"
  },
  {
   "cell_type": "code",
   "execution_count": 5,
   "outputs": [],
   "source": [
    "data = data.replace({'Not Available': np.nan})"
   ],
   "metadata": {
    "collapsed": false,
    "ExecuteTime": {
     "end_time": "2023-10-31T07:18:07.079045Z",
     "start_time": "2023-10-31T07:18:06.978395Z"
    }
   },
   "id": "d5f83052ccaebfcf"
  },
  {
   "cell_type": "markdown",
   "source": [
    "### Конвертация всех данных, имеющих числовой смысл, но хранящихся не как числа в тип float. "
   ],
   "metadata": {
    "collapsed": false
   },
   "id": "2e951316dff05f0a"
  },
  {
   "cell_type": "code",
   "execution_count": 6,
   "outputs": [],
   "source": [
    "for col in list(data.columns):\n",
    "    if ('ft²' in col or 'kBtu' in col or 'Metric Tons CO2e' in col or 'kWh' in\n",
    "    col or 'therms' in col or 'gal' in col or 'Score' in col):\n",
    "        data[col] = data[col].astype(float)"
   ],
   "metadata": {
    "collapsed": false,
    "ExecuteTime": {
     "end_time": "2023-10-31T07:18:07.098422Z",
     "start_time": "2023-10-31T07:18:07.025307Z"
    }
   },
   "id": "97df1a314bbfe80"
  },
  {
   "cell_type": "markdown",
   "source": [
    "### Определение колонок, имеющих отсутствующие данные"
   ],
   "metadata": {
    "collapsed": false
   },
   "id": "66eff6f603ddb9a7"
  },
  {
   "cell_type": "code",
   "execution_count": 7,
   "outputs": [
    {
     "name": "stdout",
     "output_type": "stream",
     "text": [
      "Your selected dataframe has 60 columns.\n",
      "There are 46 columns that have missing values.\n"
     ]
    },
    {
     "data": {
      "text/plain": "                                                    Missing Values  \\\nFuel Oil #1 Use (kBtu)                                       11737   \nDiesel #2 Use (kBtu)                                         11730   \nAddress 2                                                    11539   \nFuel Oil #5 & 6 Use (kBtu)                                   11152   \nDistrict Steam Use (kBtu)                                    10810   \nFuel Oil #4 Use (kBtu)                                       10425   \n3rd Largest Property Use Type - Gross Floor Are...           10262   \n3rd Largest Property Use Type                                10262   \nFuel Oil #2 Use (kBtu)                                        9165   \n2nd Largest Property Use Type                                 8005   \n2nd Largest Property Use - Gross Floor Area (ft²)             8005   \nMetered Areas  (Water)                                        4609   \nWater Intensity (All Water Sources) (gal/ft²)                 3984   \nWater Use (All Water Sources) (kgal)                          3984   \nLatitude                                                      2263   \nLongitude                                                     2263   \nCommunity Board                                               2263   \nCouncil District                                              2263   \nCensus Tract                                                  2263   \nNTA                                                           2263   \nENERGY STAR Score                                             2104   \nWeather Normalized Site Natural Gas Intensity (...            1963   \nWeather Normalized Site Natural Gas Use (therms)              1962   \nWeather Normalized Source EUI (kBtu/ft²)                      1465   \nWeather Normalized Site EUI (kBtu/ft²)                        1465   \nNatural Gas Use (kBtu)                                        1442   \nWeather Normalized Site Electricity Intensity (...             787   \nWeather Normalized Site Electricity (kWh)                      786   \nElectricity Use - Grid Purchase (kBtu)                         244   \nSite EUI (kBtu/ft²)                                            163   \nSource EUI (kBtu/ft²)                                          163   \nNYC Building Identification Number (BIN)                       162   \nStreet Number                                                  124   \nStreet Name                                                    122   \nBorough                                                        118   \nDOF Gross Floor Area                                           118   \nWater Required?                                                118   \nDirect GHG Emissions (Metric Tons CO2e)                         83   \nTotal GHG Emissions (Metric Tons CO2e)                          74   \nIndirect GHG Emissions (Metric Tons CO2e)                       65   \nMetered Areas (Energy)                                          57   \nDOF Benchmarking Submission Status                              30   \nNYC Borough, Block and Lot (BBL) self-reported                  11   \nBBL - 10 digits                                                 11   \nLargest Property Use Type                                        2   \nLargest Property Use Type - Gross Floor Area (ft²)               2   \n\n                                                    % of Total Values  \nFuel Oil #1 Use (kBtu)                                           99.9  \nDiesel #2 Use (kBtu)                                             99.9  \nAddress 2                                                        98.2  \nFuel Oil #5 & 6 Use (kBtu)                                       94.9  \nDistrict Steam Use (kBtu)                                        92.0  \nFuel Oil #4 Use (kBtu)                                           88.8  \n3rd Largest Property Use Type - Gross Floor Are...               87.4  \n3rd Largest Property Use Type                                    87.4  \nFuel Oil #2 Use (kBtu)                                           78.0  \n2nd Largest Property Use Type                                    68.2  \n2nd Largest Property Use - Gross Floor Area (ft²)                68.2  \nMetered Areas  (Water)                                           39.2  \nWater Intensity (All Water Sources) (gal/ft²)                    33.9  \nWater Use (All Water Sources) (kgal)                             33.9  \nLatitude                                                         19.3  \nLongitude                                                        19.3  \nCommunity Board                                                  19.3  \nCouncil District                                                 19.3  \nCensus Tract                                                     19.3  \nNTA                                                              19.3  \nENERGY STAR Score                                                17.9  \nWeather Normalized Site Natural Gas Intensity (...               16.7  \nWeather Normalized Site Natural Gas Use (therms)                 16.7  \nWeather Normalized Source EUI (kBtu/ft²)                         12.5  \nWeather Normalized Site EUI (kBtu/ft²)                           12.5  \nNatural Gas Use (kBtu)                                           12.3  \nWeather Normalized Site Electricity Intensity (...                6.7  \nWeather Normalized Site Electricity (kWh)                         6.7  \nElectricity Use - Grid Purchase (kBtu)                            2.1  \nSite EUI (kBtu/ft²)                                               1.4  \nSource EUI (kBtu/ft²)                                             1.4  \nNYC Building Identification Number (BIN)                          1.4  \nStreet Number                                                     1.1  \nStreet Name                                                       1.0  \nBorough                                                           1.0  \nDOF Gross Floor Area                                              1.0  \nWater Required?                                                   1.0  \nDirect GHG Emissions (Metric Tons CO2e)                           0.7  \nTotal GHG Emissions (Metric Tons CO2e)                            0.6  \nIndirect GHG Emissions (Metric Tons CO2e)                         0.6  \nMetered Areas (Energy)                                            0.5  \nDOF Benchmarking Submission Status                                0.3  \nNYC Borough, Block and Lot (BBL) self-reported                    0.1  \nBBL - 10 digits                                                   0.1  \nLargest Property Use Type                                         0.0  \nLargest Property Use Type - Gross Floor Area (ft²)                0.0  ",
      "text/html": "<div>\n<style scoped>\n    .dataframe tbody tr th:only-of-type {\n        vertical-align: middle;\n    }\n\n    .dataframe tbody tr th {\n        vertical-align: top;\n    }\n\n    .dataframe thead th {\n        text-align: right;\n    }\n</style>\n<table border=\"1\" class=\"dataframe\">\n  <thead>\n    <tr style=\"text-align: right;\">\n      <th></th>\n      <th>Missing Values</th>\n      <th>% of Total Values</th>\n    </tr>\n  </thead>\n  <tbody>\n    <tr>\n      <th>Fuel Oil #1 Use (kBtu)</th>\n      <td>11737</td>\n      <td>99.9</td>\n    </tr>\n    <tr>\n      <th>Diesel #2 Use (kBtu)</th>\n      <td>11730</td>\n      <td>99.9</td>\n    </tr>\n    <tr>\n      <th>Address 2</th>\n      <td>11539</td>\n      <td>98.2</td>\n    </tr>\n    <tr>\n      <th>Fuel Oil #5 &amp; 6 Use (kBtu)</th>\n      <td>11152</td>\n      <td>94.9</td>\n    </tr>\n    <tr>\n      <th>District Steam Use (kBtu)</th>\n      <td>10810</td>\n      <td>92.0</td>\n    </tr>\n    <tr>\n      <th>Fuel Oil #4 Use (kBtu)</th>\n      <td>10425</td>\n      <td>88.8</td>\n    </tr>\n    <tr>\n      <th>3rd Largest Property Use Type - Gross Floor Area (ft²)</th>\n      <td>10262</td>\n      <td>87.4</td>\n    </tr>\n    <tr>\n      <th>3rd Largest Property Use Type</th>\n      <td>10262</td>\n      <td>87.4</td>\n    </tr>\n    <tr>\n      <th>Fuel Oil #2 Use (kBtu)</th>\n      <td>9165</td>\n      <td>78.0</td>\n    </tr>\n    <tr>\n      <th>2nd Largest Property Use Type</th>\n      <td>8005</td>\n      <td>68.2</td>\n    </tr>\n    <tr>\n      <th>2nd Largest Property Use - Gross Floor Area (ft²)</th>\n      <td>8005</td>\n      <td>68.2</td>\n    </tr>\n    <tr>\n      <th>Metered Areas  (Water)</th>\n      <td>4609</td>\n      <td>39.2</td>\n    </tr>\n    <tr>\n      <th>Water Intensity (All Water Sources) (gal/ft²)</th>\n      <td>3984</td>\n      <td>33.9</td>\n    </tr>\n    <tr>\n      <th>Water Use (All Water Sources) (kgal)</th>\n      <td>3984</td>\n      <td>33.9</td>\n    </tr>\n    <tr>\n      <th>Latitude</th>\n      <td>2263</td>\n      <td>19.3</td>\n    </tr>\n    <tr>\n      <th>Longitude</th>\n      <td>2263</td>\n      <td>19.3</td>\n    </tr>\n    <tr>\n      <th>Community Board</th>\n      <td>2263</td>\n      <td>19.3</td>\n    </tr>\n    <tr>\n      <th>Council District</th>\n      <td>2263</td>\n      <td>19.3</td>\n    </tr>\n    <tr>\n      <th>Census Tract</th>\n      <td>2263</td>\n      <td>19.3</td>\n    </tr>\n    <tr>\n      <th>NTA</th>\n      <td>2263</td>\n      <td>19.3</td>\n    </tr>\n    <tr>\n      <th>ENERGY STAR Score</th>\n      <td>2104</td>\n      <td>17.9</td>\n    </tr>\n    <tr>\n      <th>Weather Normalized Site Natural Gas Intensity (therms/ft²)</th>\n      <td>1963</td>\n      <td>16.7</td>\n    </tr>\n    <tr>\n      <th>Weather Normalized Site Natural Gas Use (therms)</th>\n      <td>1962</td>\n      <td>16.7</td>\n    </tr>\n    <tr>\n      <th>Weather Normalized Source EUI (kBtu/ft²)</th>\n      <td>1465</td>\n      <td>12.5</td>\n    </tr>\n    <tr>\n      <th>Weather Normalized Site EUI (kBtu/ft²)</th>\n      <td>1465</td>\n      <td>12.5</td>\n    </tr>\n    <tr>\n      <th>Natural Gas Use (kBtu)</th>\n      <td>1442</td>\n      <td>12.3</td>\n    </tr>\n    <tr>\n      <th>Weather Normalized Site Electricity Intensity (kWh/ft²)</th>\n      <td>787</td>\n      <td>6.7</td>\n    </tr>\n    <tr>\n      <th>Weather Normalized Site Electricity (kWh)</th>\n      <td>786</td>\n      <td>6.7</td>\n    </tr>\n    <tr>\n      <th>Electricity Use - Grid Purchase (kBtu)</th>\n      <td>244</td>\n      <td>2.1</td>\n    </tr>\n    <tr>\n      <th>Site EUI (kBtu/ft²)</th>\n      <td>163</td>\n      <td>1.4</td>\n    </tr>\n    <tr>\n      <th>Source EUI (kBtu/ft²)</th>\n      <td>163</td>\n      <td>1.4</td>\n    </tr>\n    <tr>\n      <th>NYC Building Identification Number (BIN)</th>\n      <td>162</td>\n      <td>1.4</td>\n    </tr>\n    <tr>\n      <th>Street Number</th>\n      <td>124</td>\n      <td>1.1</td>\n    </tr>\n    <tr>\n      <th>Street Name</th>\n      <td>122</td>\n      <td>1.0</td>\n    </tr>\n    <tr>\n      <th>Borough</th>\n      <td>118</td>\n      <td>1.0</td>\n    </tr>\n    <tr>\n      <th>DOF Gross Floor Area</th>\n      <td>118</td>\n      <td>1.0</td>\n    </tr>\n    <tr>\n      <th>Water Required?</th>\n      <td>118</td>\n      <td>1.0</td>\n    </tr>\n    <tr>\n      <th>Direct GHG Emissions (Metric Tons CO2e)</th>\n      <td>83</td>\n      <td>0.7</td>\n    </tr>\n    <tr>\n      <th>Total GHG Emissions (Metric Tons CO2e)</th>\n      <td>74</td>\n      <td>0.6</td>\n    </tr>\n    <tr>\n      <th>Indirect GHG Emissions (Metric Tons CO2e)</th>\n      <td>65</td>\n      <td>0.6</td>\n    </tr>\n    <tr>\n      <th>Metered Areas (Energy)</th>\n      <td>57</td>\n      <td>0.5</td>\n    </tr>\n    <tr>\n      <th>DOF Benchmarking Submission Status</th>\n      <td>30</td>\n      <td>0.3</td>\n    </tr>\n    <tr>\n      <th>NYC Borough, Block and Lot (BBL) self-reported</th>\n      <td>11</td>\n      <td>0.1</td>\n    </tr>\n    <tr>\n      <th>BBL - 10 digits</th>\n      <td>11</td>\n      <td>0.1</td>\n    </tr>\n    <tr>\n      <th>Largest Property Use Type</th>\n      <td>2</td>\n      <td>0.0</td>\n    </tr>\n    <tr>\n      <th>Largest Property Use Type - Gross Floor Area (ft²)</th>\n      <td>2</td>\n      <td>0.0</td>\n    </tr>\n  </tbody>\n</table>\n</div>"
     },
     "execution_count": 7,
     "metadata": {},
     "output_type": "execute_result"
    }
   ],
   "source": [
    "def missing_values_table(df) -> DataFrame:\n",
    "        \"\"\"\n",
    "        Функция для расчета количества и процента отсутствующих значений для каждой колонки\n",
    "        :param df: датафрейм\n",
    "        :return: таблица с количеством и процентом отсутствующих значений для каждой колонки\n",
    "        \"\"\"\n",
    "        # Общее число отсутствующих значений \n",
    "        mis_val = df.isnull().sum()\n",
    "        \n",
    "        # Процент от общего числа значений\n",
    "        mis_val_percent = 100 * df.isnull().sum() / len(df)\n",
    "        \n",
    "        # Таблица с результатами расчета\n",
    "        mis_val_table = pd.concat([mis_val, mis_val_percent], axis=1)\n",
    "        \n",
    "        # Переименование колонок\n",
    "        mis_val_table_ren_columns = mis_val_table.rename(\n",
    "        columns = {0 : 'Missing Values', 1 : '% of Total Values'})\n",
    "        \n",
    "        # Сортировка по проценту отсутствующих значений\n",
    "        mis_val_table_ren_columns = mis_val_table_ren_columns[\n",
    "            mis_val_table_ren_columns.iloc[:,1] != 0].sort_values(\n",
    "        '% of Total Values', ascending=False).round(1)\n",
    "        \n",
    "        # Вывод информации\n",
    "        print (\"Your selected dataframe has \" + str(df.shape[1]) + \" columns.\\n\"      \n",
    "            \"There are \" + str(mis_val_table_ren_columns.shape[0]) +\n",
    "              \" columns that have missing values.\")\n",
    "        \n",
    "        # Возврат таблицы с отсутствующими значениями\n",
    "        return mis_val_table_ren_columns\n",
    "\n",
    "missing_values_table(data)"
   ],
   "metadata": {
    "collapsed": false,
    "ExecuteTime": {
     "end_time": "2023-10-31T07:18:07.100107Z",
     "start_time": "2023-10-31T07:18:07.048203Z"
    }
   },
   "id": "eb50d2e6f7d93bd8"
  },
  {
   "cell_type": "markdown",
   "source": [
    "### Удаление колонок, имеющих более 50% отсутствующих данных"
   ],
   "metadata": {
    "collapsed": false
   },
   "id": "7839fc0c41c8e7f1"
  },
  {
   "cell_type": "code",
   "execution_count": 8,
   "outputs": [
    {
     "name": "stdout",
     "output_type": "stream",
     "text": [
      "Your selected dataframe has 60 columns.\n",
      "There are 46 columns that have missing values.\n",
      "We will remove 11 columns.\n"
     ]
    }
   ],
   "source": [
    "# Колонки с более чем 50% отсутствующих значений\n",
    "missing_df = missing_values_table(data)\n",
    "missing_columns = list(missing_df[missing_df['% of Total Values'] > 50].index)\n",
    "print('We will remove %d columns.' % len(missing_columns))\n",
    "# Удаление\n",
    "data = data.drop(columns = list(missing_columns))"
   ],
   "metadata": {
    "collapsed": false,
    "ExecuteTime": {
     "end_time": "2023-10-31T07:22:56.852774Z",
     "start_time": "2023-10-31T07:22:56.823619Z"
    }
   },
   "id": "7fb06c72969c0739"
  },
  {
   "cell_type": "code",
   "execution_count": 10,
   "outputs": [
    {
     "name": "stdout",
     "output_type": "stream",
     "text": [
      "<class 'pandas.core.frame.DataFrame'>\n",
      "RangeIndex: 11746 entries, 0 to 11745\n",
      "Data columns (total 49 columns):\n",
      " #   Column                                                      Non-Null Count  Dtype  \n",
      "---  ------                                                      --------------  -----  \n",
      " 0   Order                                                       11746 non-null  int64  \n",
      " 1   Property Id                                                 11746 non-null  int64  \n",
      " 2   Property Name                                               11746 non-null  object \n",
      " 3   Parent Property Id                                          11746 non-null  object \n",
      " 4   Parent Property Name                                        11746 non-null  object \n",
      " 5   BBL - 10 digits                                             11735 non-null  object \n",
      " 6   NYC Borough, Block and Lot (BBL) self-reported              11735 non-null  object \n",
      " 7   NYC Building Identification Number (BIN)                    11584 non-null  object \n",
      " 8   Address 1 (self-reported)                                   11746 non-null  object \n",
      " 9   Postal Code                                                 11746 non-null  object \n",
      " 10  Street Number                                               11622 non-null  object \n",
      " 11  Street Name                                                 11624 non-null  object \n",
      " 12  Borough                                                     11628 non-null  object \n",
      " 13  DOF Gross Floor Area                                        11628 non-null  float64\n",
      " 14  Primary Property Type - Self Selected                       11746 non-null  object \n",
      " 15  List of All Property Use Types at Property                  11746 non-null  object \n",
      " 16  Largest Property Use Type                                   11744 non-null  object \n",
      " 17  Largest Property Use Type - Gross Floor Area (ft²)          11744 non-null  float64\n",
      " 18  Year Built                                                  11746 non-null  int64  \n",
      " 19  Number of Buildings - Self-reported                         11746 non-null  int64  \n",
      " 20  Occupancy                                                   11746 non-null  int64  \n",
      " 21  Metered Areas (Energy)                                      11689 non-null  object \n",
      " 22  Metered Areas  (Water)                                      7137 non-null   object \n",
      " 23  ENERGY STAR Score                                           9642 non-null   float64\n",
      " 24  Site EUI (kBtu/ft²)                                         11583 non-null  float64\n",
      " 25  Weather Normalized Site EUI (kBtu/ft²)                      10281 non-null  float64\n",
      " 26  Weather Normalized Site Electricity Intensity (kWh/ft²)     10959 non-null  float64\n",
      " 27  Weather Normalized Site Natural Gas Intensity (therms/ft²)  9783 non-null   float64\n",
      " 28  Weather Normalized Source EUI (kBtu/ft²)                    10281 non-null  float64\n",
      " 29  Natural Gas Use (kBtu)                                      10304 non-null  float64\n",
      " 30  Weather Normalized Site Natural Gas Use (therms)            9784 non-null   float64\n",
      " 31  Electricity Use - Grid Purchase (kBtu)                      11502 non-null  float64\n",
      " 32  Weather Normalized Site Electricity (kWh)                   10960 non-null  float64\n",
      " 33  Total GHG Emissions (Metric Tons CO2e)                      11672 non-null  float64\n",
      " 34  Direct GHG Emissions (Metric Tons CO2e)                     11663 non-null  float64\n",
      " 35  Indirect GHG Emissions (Metric Tons CO2e)                   11681 non-null  float64\n",
      " 36  Property GFA - Self-Reported (ft²)                          11746 non-null  float64\n",
      " 37  Water Use (All Water Sources) (kgal)                        7762 non-null   float64\n",
      " 38  Water Intensity (All Water Sources) (gal/ft²)               7762 non-null   float64\n",
      " 39  Source EUI (kBtu/ft²)                                       11583 non-null  float64\n",
      " 40  Release Date                                                11746 non-null  object \n",
      " 41  Water Required?                                             11628 non-null  object \n",
      " 42  DOF Benchmarking Submission Status                          11716 non-null  object \n",
      " 43  Latitude                                                    9483 non-null   float64\n",
      " 44  Longitude                                                   9483 non-null   float64\n",
      " 45  Community Board                                             9483 non-null   float64\n",
      " 46  Council District                                            9483 non-null   float64\n",
      " 47  Census Tract                                                9483 non-null   float64\n",
      " 48  NTA                                                         9483 non-null   object \n",
      "dtypes: float64(24), int64(5), object(20)\n",
      "memory usage: 4.4+ MB\n"
     ]
    }
   ],
   "source": [
    "data.info() # было 59 колонок, стало 48 -- удалили 11"
   ],
   "metadata": {
    "collapsed": false,
    "ExecuteTime": {
     "end_time": "2023-10-31T07:23:33.576269Z",
     "start_time": "2023-10-31T07:23:33.543124Z"
    }
   },
   "id": "dd0a50f94daa36e1"
  },
  {
   "cell_type": "markdown",
   "source": [],
   "metadata": {
    "collapsed": false
   },
   "id": "9123cf582bf251b"
  },
  {
   "cell_type": "code",
   "execution_count": null,
   "outputs": [],
   "source": [],
   "metadata": {
    "collapsed": false
   },
   "id": "ce25b1a1437b70f1"
  }
 ],
 "metadata": {
  "kernelspec": {
   "display_name": "Python 3",
   "language": "python",
   "name": "python3"
  },
  "language_info": {
   "codemirror_mode": {
    "name": "ipython",
    "version": 2
   },
   "file_extension": ".py",
   "mimetype": "text/x-python",
   "name": "python",
   "nbconvert_exporter": "python",
   "pygments_lexer": "ipython2",
   "version": "2.7.6"
  }
 },
 "nbformat": 4,
 "nbformat_minor": 5
}
